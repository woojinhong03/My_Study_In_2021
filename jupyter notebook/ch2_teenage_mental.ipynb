{
 "cells": [
  {
   "cell_type": "code",
   "execution_count": 3,
   "id": "e0f3bdcb",
   "metadata": {
    "scrolled": true
   },
   "outputs": [],
   "source": [
    "import pandas as pd"
   ]
  },
  {
   "cell_type": "code",
   "execution_count": 5,
   "id": "5c331771",
   "metadata": {},
   "outputs": [
    {
     "data": {
      "text/plain": [
       "DatetimeIndex(['2019-03-01', '2019-03-02', '2019-03-03', '2019-03-04',\n",
       "               '2019-03-05', '2019-03-06'],\n",
       "              dtype='datetime64[ns]', freq='D')"
      ]
     },
     "execution_count": 5,
     "metadata": {},
     "output_type": "execute_result"
    }
   ],
   "source": [
    "dates = pd.date_range('20190301',periods=6)\n",
    "dates"
   ]
  },
  {
   "cell_type": "code",
   "execution_count": 7,
   "id": "021b6589",
   "metadata": {},
   "outputs": [
    {
     "data": {
      "text/html": [
       "<div>\n",
       "<style scoped>\n",
       "    .dataframe tbody tr th:only-of-type {\n",
       "        vertical-align: middle;\n",
       "    }\n",
       "\n",
       "    .dataframe tbody tr th {\n",
       "        vertical-align: top;\n",
       "    }\n",
       "\n",
       "    .dataframe thead th {\n",
       "        text-align: right;\n",
       "    }\n",
       "</style>\n",
       "<table border=\"1\" class=\"dataframe\">\n",
       "  <thead>\n",
       "    <tr style=\"text-align: right;\">\n",
       "      <th></th>\n",
       "      <th>A</th>\n",
       "      <th>B</th>\n",
       "      <th>C</th>\n",
       "      <th>D</th>\n",
       "    </tr>\n",
       "  </thead>\n",
       "  <tbody>\n",
       "    <tr>\n",
       "      <th>2019-03-01</th>\n",
       "      <td>0.323769</td>\n",
       "      <td>-1.285817</td>\n",
       "      <td>2.147937</td>\n",
       "      <td>0.669713</td>\n",
       "    </tr>\n",
       "    <tr>\n",
       "      <th>2019-03-02</th>\n",
       "      <td>-0.566707</td>\n",
       "      <td>-1.983707</td>\n",
       "      <td>-1.499854</td>\n",
       "      <td>-1.059527</td>\n",
       "    </tr>\n",
       "    <tr>\n",
       "      <th>2019-03-03</th>\n",
       "      <td>-0.489086</td>\n",
       "      <td>-2.060032</td>\n",
       "      <td>-0.501145</td>\n",
       "      <td>0.257498</td>\n",
       "    </tr>\n",
       "    <tr>\n",
       "      <th>2019-03-04</th>\n",
       "      <td>0.967113</td>\n",
       "      <td>-0.416481</td>\n",
       "      <td>-0.000346</td>\n",
       "      <td>0.004139</td>\n",
       "    </tr>\n",
       "    <tr>\n",
       "      <th>2019-03-05</th>\n",
       "      <td>0.723185</td>\n",
       "      <td>-0.734447</td>\n",
       "      <td>1.825924</td>\n",
       "      <td>-0.389020</td>\n",
       "    </tr>\n",
       "    <tr>\n",
       "      <th>2019-03-06</th>\n",
       "      <td>0.296089</td>\n",
       "      <td>-0.856560</td>\n",
       "      <td>-0.177415</td>\n",
       "      <td>-0.107328</td>\n",
       "    </tr>\n",
       "  </tbody>\n",
       "</table>\n",
       "</div>"
      ],
      "text/plain": [
       "                   A         B         C         D\n",
       "2019-03-01  0.323769 -1.285817  2.147937  0.669713\n",
       "2019-03-02 -0.566707 -1.983707 -1.499854 -1.059527\n",
       "2019-03-03 -0.489086 -2.060032 -0.501145  0.257498\n",
       "2019-03-04  0.967113 -0.416481 -0.000346  0.004139\n",
       "2019-03-05  0.723185 -0.734447  1.825924 -0.389020\n",
       "2019-03-06  0.296089 -0.856560 -0.177415 -0.107328"
      ]
     },
     "execution_count": 7,
     "metadata": {},
     "output_type": "execute_result"
    }
   ],
   "source": [
    "import numpy as np\n",
    "\n",
    "df = pd.DataFrame(np.random.randn(6,4), index=dates, columns=['A','B','C','D'])\n",
    "df"
   ]
  },
  {
   "cell_type": "code",
   "execution_count": 9,
   "id": "bbdd70d1",
   "metadata": {},
   "outputs": [
    {
     "data": {
      "text/plain": [
       "pandas.core.frame.DataFrame"
      ]
     },
     "execution_count": 9,
     "metadata": {},
     "output_type": "execute_result"
    }
   ],
   "source": [
    "type(df)"
   ]
  },
  {
   "cell_type": "code",
   "execution_count": 10,
   "id": "0f3cdee6",
   "metadata": {},
   "outputs": [
    {
     "data": {
      "text/plain": [
       "Index(['A', 'B', 'C', 'D'], dtype='object')"
      ]
     },
     "execution_count": 10,
     "metadata": {},
     "output_type": "execute_result"
    }
   ],
   "source": [
    "df.columns"
   ]
  },
  {
   "cell_type": "code",
   "execution_count": 11,
   "id": "daea5cbb",
   "metadata": {},
   "outputs": [
    {
     "data": {
      "text/plain": [
       "DatetimeIndex(['2019-03-01', '2019-03-02', '2019-03-03', '2019-03-04',\n",
       "               '2019-03-05', '2019-03-06'],\n",
       "              dtype='datetime64[ns]', freq='D')"
      ]
     },
     "execution_count": 11,
     "metadata": {},
     "output_type": "execute_result"
    }
   ],
   "source": [
    "df.index"
   ]
  },
  {
   "cell_type": "code",
   "execution_count": 12,
   "id": "5c1506d2",
   "metadata": {},
   "outputs": [
    {
     "data": {
      "text/plain": [
       "array([[ 3.23768524e-01, -1.28581717e+00,  2.14793690e+00,\n",
       "         6.69712824e-01],\n",
       "       [-5.66707309e-01, -1.98370707e+00, -1.49985421e+00,\n",
       "        -1.05952673e+00],\n",
       "       [-4.89086085e-01, -2.06003229e+00, -5.01145099e-01,\n",
       "         2.57497660e-01],\n",
       "       [ 9.67113161e-01, -4.16481431e-01, -3.45507134e-04,\n",
       "         4.13872373e-03],\n",
       "       [ 7.23184985e-01, -7.34446832e-01,  1.82592368e+00,\n",
       "        -3.89020129e-01],\n",
       "       [ 2.96088600e-01, -8.56559577e-01, -1.77414846e-01,\n",
       "        -1.07328163e-01]])"
      ]
     },
     "execution_count": 12,
     "metadata": {},
     "output_type": "execute_result"
    }
   ],
   "source": [
    "df.values"
   ]
  },
  {
   "cell_type": "code",
   "execution_count": 13,
   "id": "dadfcdd2",
   "metadata": {},
   "outputs": [
    {
     "data": {
      "text/plain": [
       "<bound method NDFrame.describe of                    A         B         C         D\n",
       "2019-03-01  0.323769 -1.285817  2.147937  0.669713\n",
       "2019-03-02 -0.566707 -1.983707 -1.499854 -1.059527\n",
       "2019-03-03 -0.489086 -2.060032 -0.501145  0.257498\n",
       "2019-03-04  0.967113 -0.416481 -0.000346  0.004139\n",
       "2019-03-05  0.723185 -0.734447  1.825924 -0.389020\n",
       "2019-03-06  0.296089 -0.856560 -0.177415 -0.107328>"
      ]
     },
     "execution_count": 13,
     "metadata": {},
     "output_type": "execute_result"
    }
   ],
   "source": [
    "df.describe"
   ]
  },
  {
   "cell_type": "code",
   "execution_count": 15,
   "id": "4c021972",
   "metadata": {},
   "outputs": [
    {
     "data": {
      "text/html": [
       "<div>\n",
       "<style scoped>\n",
       "    .dataframe tbody tr th:only-of-type {\n",
       "        vertical-align: middle;\n",
       "    }\n",
       "\n",
       "    .dataframe tbody tr th {\n",
       "        vertical-align: top;\n",
       "    }\n",
       "\n",
       "    .dataframe thead th {\n",
       "        text-align: right;\n",
       "    }\n",
       "</style>\n",
       "<table border=\"1\" class=\"dataframe\">\n",
       "  <thead>\n",
       "    <tr style=\"text-align: right;\">\n",
       "      <th></th>\n",
       "      <th>A</th>\n",
       "      <th>B</th>\n",
       "      <th>C</th>\n",
       "      <th>D</th>\n",
       "    </tr>\n",
       "  </thead>\n",
       "  <tbody>\n",
       "    <tr>\n",
       "      <th>count</th>\n",
       "      <td>6.000000</td>\n",
       "      <td>6.000000</td>\n",
       "      <td>6.000000</td>\n",
       "      <td>6.000000</td>\n",
       "    </tr>\n",
       "    <tr>\n",
       "      <th>mean</th>\n",
       "      <td>0.209060</td>\n",
       "      <td>-1.222841</td>\n",
       "      <td>0.299183</td>\n",
       "      <td>-0.104088</td>\n",
       "    </tr>\n",
       "    <tr>\n",
       "      <th>std</th>\n",
       "      <td>0.624327</td>\n",
       "      <td>0.679217</td>\n",
       "      <td>1.410160</td>\n",
       "      <td>0.589115</td>\n",
       "    </tr>\n",
       "    <tr>\n",
       "      <th>min</th>\n",
       "      <td>-0.566707</td>\n",
       "      <td>-2.060032</td>\n",
       "      <td>-1.499854</td>\n",
       "      <td>-1.059527</td>\n",
       "    </tr>\n",
       "    <tr>\n",
       "      <th>25%</th>\n",
       "      <td>-0.292792</td>\n",
       "      <td>-1.809235</td>\n",
       "      <td>-0.420213</td>\n",
       "      <td>-0.318597</td>\n",
       "    </tr>\n",
       "    <tr>\n",
       "      <th>50%</th>\n",
       "      <td>0.309929</td>\n",
       "      <td>-1.071188</td>\n",
       "      <td>-0.088880</td>\n",
       "      <td>-0.051595</td>\n",
       "    </tr>\n",
       "    <tr>\n",
       "      <th>75%</th>\n",
       "      <td>0.623331</td>\n",
       "      <td>-0.764975</td>\n",
       "      <td>1.369356</td>\n",
       "      <td>0.194158</td>\n",
       "    </tr>\n",
       "    <tr>\n",
       "      <th>max</th>\n",
       "      <td>0.967113</td>\n",
       "      <td>-0.416481</td>\n",
       "      <td>2.147937</td>\n",
       "      <td>0.669713</td>\n",
       "    </tr>\n",
       "  </tbody>\n",
       "</table>\n",
       "</div>"
      ],
      "text/plain": [
       "              A         B         C         D\n",
       "count  6.000000  6.000000  6.000000  6.000000\n",
       "mean   0.209060 -1.222841  0.299183 -0.104088\n",
       "std    0.624327  0.679217  1.410160  0.589115\n",
       "min   -0.566707 -2.060032 -1.499854 -1.059527\n",
       "25%   -0.292792 -1.809235 -0.420213 -0.318597\n",
       "50%    0.309929 -1.071188 -0.088880 -0.051595\n",
       "75%    0.623331 -0.764975  1.369356  0.194158\n",
       "max    0.967113 -0.416481  2.147937  0.669713"
      ]
     },
     "execution_count": 15,
     "metadata": {},
     "output_type": "execute_result"
    }
   ],
   "source": [
    "df.describe()"
   ]
  },
  {
   "cell_type": "code",
   "execution_count": 17,
   "id": "b3ed2ff8",
   "metadata": {},
   "outputs": [
    {
     "data": {
      "text/html": [
       "<div>\n",
       "<style scoped>\n",
       "    .dataframe tbody tr th:only-of-type {\n",
       "        vertical-align: middle;\n",
       "    }\n",
       "\n",
       "    .dataframe tbody tr th {\n",
       "        vertical-align: top;\n",
       "    }\n",
       "\n",
       "    .dataframe thead th {\n",
       "        text-align: right;\n",
       "    }\n",
       "</style>\n",
       "<table border=\"1\" class=\"dataframe\">\n",
       "  <thead>\n",
       "    <tr style=\"text-align: right;\">\n",
       "      <th></th>\n",
       "      <th>A</th>\n",
       "      <th>B</th>\n",
       "      <th>C</th>\n",
       "      <th>D</th>\n",
       "    </tr>\n",
       "  </thead>\n",
       "  <tbody>\n",
       "    <tr>\n",
       "      <th>2019-03-02</th>\n",
       "      <td>-0.566707</td>\n",
       "      <td>-1.983707</td>\n",
       "      <td>-1.499854</td>\n",
       "      <td>-1.059527</td>\n",
       "    </tr>\n",
       "    <tr>\n",
       "      <th>2019-03-03</th>\n",
       "      <td>-0.489086</td>\n",
       "      <td>-2.060032</td>\n",
       "      <td>-0.501145</td>\n",
       "      <td>0.257498</td>\n",
       "    </tr>\n",
       "    <tr>\n",
       "      <th>2019-03-06</th>\n",
       "      <td>0.296089</td>\n",
       "      <td>-0.856560</td>\n",
       "      <td>-0.177415</td>\n",
       "      <td>-0.107328</td>\n",
       "    </tr>\n",
       "    <tr>\n",
       "      <th>2019-03-01</th>\n",
       "      <td>0.323769</td>\n",
       "      <td>-1.285817</td>\n",
       "      <td>2.147937</td>\n",
       "      <td>0.669713</td>\n",
       "    </tr>\n",
       "    <tr>\n",
       "      <th>2019-03-05</th>\n",
       "      <td>0.723185</td>\n",
       "      <td>-0.734447</td>\n",
       "      <td>1.825924</td>\n",
       "      <td>-0.389020</td>\n",
       "    </tr>\n",
       "    <tr>\n",
       "      <th>2019-03-04</th>\n",
       "      <td>0.967113</td>\n",
       "      <td>-0.416481</td>\n",
       "      <td>-0.000346</td>\n",
       "      <td>0.004139</td>\n",
       "    </tr>\n",
       "  </tbody>\n",
       "</table>\n",
       "</div>"
      ],
      "text/plain": [
       "                   A         B         C         D\n",
       "2019-03-02 -0.566707 -1.983707 -1.499854 -1.059527\n",
       "2019-03-03 -0.489086 -2.060032 -0.501145  0.257498\n",
       "2019-03-06  0.296089 -0.856560 -0.177415 -0.107328\n",
       "2019-03-01  0.323769 -1.285817  2.147937  0.669713\n",
       "2019-03-05  0.723185 -0.734447  1.825924 -0.389020\n",
       "2019-03-04  0.967113 -0.416481 -0.000346  0.004139"
      ]
     },
     "execution_count": 17,
     "metadata": {},
     "output_type": "execute_result"
    }
   ],
   "source": [
    "df.sort_values(by='A')"
   ]
  },
  {
   "cell_type": "code",
   "execution_count": 19,
   "id": "9688b88c",
   "metadata": {},
   "outputs": [
    {
     "data": {
      "text/html": [
       "<div>\n",
       "<style scoped>\n",
       "    .dataframe tbody tr th:only-of-type {\n",
       "        vertical-align: middle;\n",
       "    }\n",
       "\n",
       "    .dataframe tbody tr th {\n",
       "        vertical-align: top;\n",
       "    }\n",
       "\n",
       "    .dataframe thead th {\n",
       "        text-align: right;\n",
       "    }\n",
       "</style>\n",
       "<table border=\"1\" class=\"dataframe\">\n",
       "  <thead>\n",
       "    <tr style=\"text-align: right;\">\n",
       "      <th></th>\n",
       "      <th>A</th>\n",
       "      <th>B</th>\n",
       "      <th>C</th>\n",
       "      <th>D</th>\n",
       "    </tr>\n",
       "  </thead>\n",
       "  <tbody>\n",
       "    <tr>\n",
       "      <th>2019-03-04</th>\n",
       "      <td>0.967113</td>\n",
       "      <td>-0.416481</td>\n",
       "      <td>-0.000346</td>\n",
       "      <td>0.004139</td>\n",
       "    </tr>\n",
       "    <tr>\n",
       "      <th>2019-03-05</th>\n",
       "      <td>0.723185</td>\n",
       "      <td>-0.734447</td>\n",
       "      <td>1.825924</td>\n",
       "      <td>-0.389020</td>\n",
       "    </tr>\n",
       "    <tr>\n",
       "      <th>2019-03-01</th>\n",
       "      <td>0.323769</td>\n",
       "      <td>-1.285817</td>\n",
       "      <td>2.147937</td>\n",
       "      <td>0.669713</td>\n",
       "    </tr>\n",
       "    <tr>\n",
       "      <th>2019-03-06</th>\n",
       "      <td>0.296089</td>\n",
       "      <td>-0.856560</td>\n",
       "      <td>-0.177415</td>\n",
       "      <td>-0.107328</td>\n",
       "    </tr>\n",
       "    <tr>\n",
       "      <th>2019-03-03</th>\n",
       "      <td>-0.489086</td>\n",
       "      <td>-2.060032</td>\n",
       "      <td>-0.501145</td>\n",
       "      <td>0.257498</td>\n",
       "    </tr>\n",
       "    <tr>\n",
       "      <th>2019-03-02</th>\n",
       "      <td>-0.566707</td>\n",
       "      <td>-1.983707</td>\n",
       "      <td>-1.499854</td>\n",
       "      <td>-1.059527</td>\n",
       "    </tr>\n",
       "  </tbody>\n",
       "</table>\n",
       "</div>"
      ],
      "text/plain": [
       "                   A         B         C         D\n",
       "2019-03-04  0.967113 -0.416481 -0.000346  0.004139\n",
       "2019-03-05  0.723185 -0.734447  1.825924 -0.389020\n",
       "2019-03-01  0.323769 -1.285817  2.147937  0.669713\n",
       "2019-03-06  0.296089 -0.856560 -0.177415 -0.107328\n",
       "2019-03-03 -0.489086 -2.060032 -0.501145  0.257498\n",
       "2019-03-02 -0.566707 -1.983707 -1.499854 -1.059527"
      ]
     },
     "execution_count": 19,
     "metadata": {},
     "output_type": "execute_result"
    }
   ],
   "source": [
    "df.sort_values(by='A', ascending=False)"
   ]
  },
  {
   "cell_type": "code",
   "execution_count": 20,
   "id": "4d08b929",
   "metadata": {},
   "outputs": [
    {
     "data": {
      "text/plain": [
       "2019-03-01    0.323769\n",
       "2019-03-02   -0.566707\n",
       "2019-03-03   -0.489086\n",
       "2019-03-04    0.967113\n",
       "2019-03-05    0.723185\n",
       "2019-03-06    0.296089\n",
       "Freq: D, Name: A, dtype: float64"
      ]
     },
     "execution_count": 20,
     "metadata": {},
     "output_type": "execute_result"
    }
   ],
   "source": [
    "df['A']"
   ]
  },
  {
   "cell_type": "code",
   "execution_count": 22,
   "id": "b06a8fb4",
   "metadata": {},
   "outputs": [
    {
     "data": {
      "text/plain": [
       "pandas.core.series.Series"
      ]
     },
     "execution_count": 22,
     "metadata": {},
     "output_type": "execute_result"
    }
   ],
   "source": [
    "type(df['A'])"
   ]
  },
  {
   "cell_type": "code",
   "execution_count": 23,
   "id": "9cd6a700",
   "metadata": {},
   "outputs": [
    {
     "data": {
      "text/html": [
       "<div>\n",
       "<style scoped>\n",
       "    .dataframe tbody tr th:only-of-type {\n",
       "        vertical-align: middle;\n",
       "    }\n",
       "\n",
       "    .dataframe tbody tr th {\n",
       "        vertical-align: top;\n",
       "    }\n",
       "\n",
       "    .dataframe thead th {\n",
       "        text-align: right;\n",
       "    }\n",
       "</style>\n",
       "<table border=\"1\" class=\"dataframe\">\n",
       "  <thead>\n",
       "    <tr style=\"text-align: right;\">\n",
       "      <th></th>\n",
       "      <th>A</th>\n",
       "      <th>B</th>\n",
       "      <th>C</th>\n",
       "      <th>D</th>\n",
       "    </tr>\n",
       "  </thead>\n",
       "  <tbody>\n",
       "    <tr>\n",
       "      <th>2019-03-01</th>\n",
       "      <td>0.323769</td>\n",
       "      <td>-1.285817</td>\n",
       "      <td>2.147937</td>\n",
       "      <td>0.669713</td>\n",
       "    </tr>\n",
       "    <tr>\n",
       "      <th>2019-03-02</th>\n",
       "      <td>-0.566707</td>\n",
       "      <td>-1.983707</td>\n",
       "      <td>-1.499854</td>\n",
       "      <td>-1.059527</td>\n",
       "    </tr>\n",
       "    <tr>\n",
       "      <th>2019-03-03</th>\n",
       "      <td>-0.489086</td>\n",
       "      <td>-2.060032</td>\n",
       "      <td>-0.501145</td>\n",
       "      <td>0.257498</td>\n",
       "    </tr>\n",
       "  </tbody>\n",
       "</table>\n",
       "</div>"
      ],
      "text/plain": [
       "                   A         B         C         D\n",
       "2019-03-01  0.323769 -1.285817  2.147937  0.669713\n",
       "2019-03-02 -0.566707 -1.983707 -1.499854 -1.059527\n",
       "2019-03-03 -0.489086 -2.060032 -0.501145  0.257498"
      ]
     },
     "execution_count": 23,
     "metadata": {},
     "output_type": "execute_result"
    }
   ],
   "source": [
    "df[0:3]"
   ]
  },
  {
   "cell_type": "code",
   "execution_count": 24,
   "id": "fd9141af",
   "metadata": {},
   "outputs": [
    {
     "data": {
      "text/plain": [
       "A    0.323769\n",
       "B   -1.285817\n",
       "C    2.147937\n",
       "D    0.669713\n",
       "Name: 2019-03-01 00:00:00, dtype: float64"
      ]
     },
     "execution_count": 24,
     "metadata": {},
     "output_type": "execute_result"
    }
   ],
   "source": [
    "df.loc['2019-03-01']"
   ]
  },
  {
   "cell_type": "code",
   "execution_count": 26,
   "id": "2e8578d2",
   "metadata": {},
   "outputs": [
    {
     "data": {
      "text/plain": [
       "0.3237685235161355"
      ]
     },
     "execution_count": 26,
     "metadata": {},
     "output_type": "execute_result"
    }
   ],
   "source": [
    "df.loc['2019-03-01','A']"
   ]
  },
  {
   "cell_type": "code",
   "execution_count": 29,
   "id": "3fd7c58c",
   "metadata": {},
   "outputs": [
    {
     "data": {
      "text/plain": [
       "A    0.323769\n",
       "Name: 2019-03-01 00:00:00, dtype: float64"
      ]
     },
     "execution_count": 29,
     "metadata": {},
     "output_type": "execute_result"
    }
   ],
   "source": [
    "df.loc['2019-03-01',['A']]"
   ]
  },
  {
   "cell_type": "code",
   "execution_count": 30,
   "id": "d1c1c322",
   "metadata": {},
   "outputs": [
    {
     "data": {
      "text/plain": [
       "A    0.323769\n",
       "B   -1.285817\n",
       "Name: 2019-03-01 00:00:00, dtype: float64"
      ]
     },
     "execution_count": 30,
     "metadata": {},
     "output_type": "execute_result"
    }
   ],
   "source": [
    "df.loc['2019-03-01',['A','B']]"
   ]
  },
  {
   "cell_type": "code",
   "execution_count": 31,
   "id": "056412b9",
   "metadata": {},
   "outputs": [
    {
     "data": {
      "text/html": [
       "<div>\n",
       "<style scoped>\n",
       "    .dataframe tbody tr th:only-of-type {\n",
       "        vertical-align: middle;\n",
       "    }\n",
       "\n",
       "    .dataframe tbody tr th {\n",
       "        vertical-align: top;\n",
       "    }\n",
       "\n",
       "    .dataframe thead th {\n",
       "        text-align: right;\n",
       "    }\n",
       "</style>\n",
       "<table border=\"1\" class=\"dataframe\">\n",
       "  <thead>\n",
       "    <tr style=\"text-align: right;\">\n",
       "      <th></th>\n",
       "      <th>A</th>\n",
       "      <th>B</th>\n",
       "    </tr>\n",
       "  </thead>\n",
       "  <tbody>\n",
       "    <tr>\n",
       "      <th>2019-03-01</th>\n",
       "      <td>0.323769</td>\n",
       "      <td>-1.285817</td>\n",
       "    </tr>\n",
       "    <tr>\n",
       "      <th>2019-03-02</th>\n",
       "      <td>-0.566707</td>\n",
       "      <td>-1.983707</td>\n",
       "    </tr>\n",
       "  </tbody>\n",
       "</table>\n",
       "</div>"
      ],
      "text/plain": [
       "                   A         B\n",
       "2019-03-01  0.323769 -1.285817\n",
       "2019-03-02 -0.566707 -1.983707"
      ]
     },
     "execution_count": 31,
     "metadata": {},
     "output_type": "execute_result"
    }
   ],
   "source": [
    "df.loc['2019-03-01':'2019-03-02',['A','B']]"
   ]
  },
  {
   "cell_type": "code",
   "execution_count": 32,
   "id": "bb173d1f",
   "metadata": {},
   "outputs": [
    {
     "data": {
      "text/html": [
       "<div>\n",
       "<style scoped>\n",
       "    .dataframe tbody tr th:only-of-type {\n",
       "        vertical-align: middle;\n",
       "    }\n",
       "\n",
       "    .dataframe tbody tr th {\n",
       "        vertical-align: top;\n",
       "    }\n",
       "\n",
       "    .dataframe thead th {\n",
       "        text-align: right;\n",
       "    }\n",
       "</style>\n",
       "<table border=\"1\" class=\"dataframe\">\n",
       "  <thead>\n",
       "    <tr style=\"text-align: right;\">\n",
       "      <th></th>\n",
       "      <th>A</th>\n",
       "      <th>B</th>\n",
       "    </tr>\n",
       "  </thead>\n",
       "  <tbody>\n",
       "    <tr>\n",
       "      <th>2019-03-01</th>\n",
       "      <td>0.323769</td>\n",
       "      <td>-1.285817</td>\n",
       "    </tr>\n",
       "    <tr>\n",
       "      <th>2019-03-02</th>\n",
       "      <td>-0.566707</td>\n",
       "      <td>-1.983707</td>\n",
       "    </tr>\n",
       "    <tr>\n",
       "      <th>2019-03-03</th>\n",
       "      <td>-0.489086</td>\n",
       "      <td>-2.060032</td>\n",
       "    </tr>\n",
       "    <tr>\n",
       "      <th>2019-03-04</th>\n",
       "      <td>0.967113</td>\n",
       "      <td>-0.416481</td>\n",
       "    </tr>\n",
       "    <tr>\n",
       "      <th>2019-03-05</th>\n",
       "      <td>0.723185</td>\n",
       "      <td>-0.734447</td>\n",
       "    </tr>\n",
       "    <tr>\n",
       "      <th>2019-03-06</th>\n",
       "      <td>0.296089</td>\n",
       "      <td>-0.856560</td>\n",
       "    </tr>\n",
       "  </tbody>\n",
       "</table>\n",
       "</div>"
      ],
      "text/plain": [
       "                   A         B\n",
       "2019-03-01  0.323769 -1.285817\n",
       "2019-03-02 -0.566707 -1.983707\n",
       "2019-03-03 -0.489086 -2.060032\n",
       "2019-03-04  0.967113 -0.416481\n",
       "2019-03-05  0.723185 -0.734447\n",
       "2019-03-06  0.296089 -0.856560"
      ]
     },
     "execution_count": 32,
     "metadata": {},
     "output_type": "execute_result"
    }
   ],
   "source": [
    "df.loc[:,['A','B']]"
   ]
  },
  {
   "cell_type": "code",
   "execution_count": 35,
   "id": "a0b3ff97",
   "metadata": {},
   "outputs": [
    {
     "data": {
      "text/html": [
       "<div>\n",
       "<style scoped>\n",
       "    .dataframe tbody tr th:only-of-type {\n",
       "        vertical-align: middle;\n",
       "    }\n",
       "\n",
       "    .dataframe tbody tr th {\n",
       "        vertical-align: top;\n",
       "    }\n",
       "\n",
       "    .dataframe thead th {\n",
       "        text-align: right;\n",
       "    }\n",
       "</style>\n",
       "<table border=\"1\" class=\"dataframe\">\n",
       "  <thead>\n",
       "    <tr style=\"text-align: right;\">\n",
       "      <th></th>\n",
       "      <th>A</th>\n",
       "      <th>B</th>\n",
       "      <th>C</th>\n",
       "      <th>D</th>\n",
       "    </tr>\n",
       "  </thead>\n",
       "  <tbody>\n",
       "    <tr>\n",
       "      <th>2019-03-01</th>\n",
       "      <td>0.323769</td>\n",
       "      <td>-1.285817</td>\n",
       "      <td>2.147937</td>\n",
       "      <td>0.669713</td>\n",
       "    </tr>\n",
       "    <tr>\n",
       "      <th>2019-03-02</th>\n",
       "      <td>-0.566707</td>\n",
       "      <td>-1.983707</td>\n",
       "      <td>-1.499854</td>\n",
       "      <td>-1.059527</td>\n",
       "    </tr>\n",
       "  </tbody>\n",
       "</table>\n",
       "</div>"
      ],
      "text/plain": [
       "                   A         B         C         D\n",
       "2019-03-01  0.323769 -1.285817  2.147937  0.669713\n",
       "2019-03-02 -0.566707 -1.983707 -1.499854 -1.059527"
      ]
     },
     "execution_count": 35,
     "metadata": {},
     "output_type": "execute_result"
    }
   ],
   "source": [
    "df.iloc[0:2]"
   ]
  },
  {
   "cell_type": "code",
   "execution_count": 38,
   "id": "b4793120",
   "metadata": {},
   "outputs": [
    {
     "data": {
      "text/html": [
       "<div>\n",
       "<style scoped>\n",
       "    .dataframe tbody tr th:only-of-type {\n",
       "        vertical-align: middle;\n",
       "    }\n",
       "\n",
       "    .dataframe tbody tr th {\n",
       "        vertical-align: top;\n",
       "    }\n",
       "\n",
       "    .dataframe thead th {\n",
       "        text-align: right;\n",
       "    }\n",
       "</style>\n",
       "<table border=\"1\" class=\"dataframe\">\n",
       "  <thead>\n",
       "    <tr style=\"text-align: right;\">\n",
       "      <th></th>\n",
       "      <th>A</th>\n",
       "      <th>B</th>\n",
       "    </tr>\n",
       "  </thead>\n",
       "  <tbody>\n",
       "    <tr>\n",
       "      <th>2019-03-01</th>\n",
       "      <td>0.323769</td>\n",
       "      <td>-1.285817</td>\n",
       "    </tr>\n",
       "    <tr>\n",
       "      <th>2019-03-02</th>\n",
       "      <td>-0.566707</td>\n",
       "      <td>-1.983707</td>\n",
       "    </tr>\n",
       "    <tr>\n",
       "      <th>2019-03-04</th>\n",
       "      <td>0.967113</td>\n",
       "      <td>-0.416481</td>\n",
       "    </tr>\n",
       "  </tbody>\n",
       "</table>\n",
       "</div>"
      ],
      "text/plain": [
       "                   A         B\n",
       "2019-03-01  0.323769 -1.285817\n",
       "2019-03-02 -0.566707 -1.983707\n",
       "2019-03-04  0.967113 -0.416481"
      ]
     },
     "execution_count": 38,
     "metadata": {},
     "output_type": "execute_result"
    }
   ],
   "source": [
    "df.iloc[[0,1,3],0:2]"
   ]
  },
  {
   "cell_type": "code",
   "execution_count": 39,
   "id": "16b53058",
   "metadata": {},
   "outputs": [
    {
     "data": {
      "text/plain": [
       "2019-03-01     True\n",
       "2019-03-02    False\n",
       "2019-03-03    False\n",
       "2019-03-04     True\n",
       "2019-03-05     True\n",
       "2019-03-06     True\n",
       "Freq: D, Name: A, dtype: bool"
      ]
     },
     "execution_count": 39,
     "metadata": {},
     "output_type": "execute_result"
    }
   ],
   "source": [
    "df['A']>0"
   ]
  },
  {
   "cell_type": "code",
   "execution_count": 40,
   "id": "8e7742db",
   "metadata": {},
   "outputs": [
    {
     "data": {
      "text/html": [
       "<div>\n",
       "<style scoped>\n",
       "    .dataframe tbody tr th:only-of-type {\n",
       "        vertical-align: middle;\n",
       "    }\n",
       "\n",
       "    .dataframe tbody tr th {\n",
       "        vertical-align: top;\n",
       "    }\n",
       "\n",
       "    .dataframe thead th {\n",
       "        text-align: right;\n",
       "    }\n",
       "</style>\n",
       "<table border=\"1\" class=\"dataframe\">\n",
       "  <thead>\n",
       "    <tr style=\"text-align: right;\">\n",
       "      <th></th>\n",
       "      <th>A</th>\n",
       "      <th>B</th>\n",
       "      <th>C</th>\n",
       "      <th>D</th>\n",
       "    </tr>\n",
       "  </thead>\n",
       "  <tbody>\n",
       "    <tr>\n",
       "      <th>2019-03-01</th>\n",
       "      <td>0.323769</td>\n",
       "      <td>-1.285817</td>\n",
       "      <td>2.147937</td>\n",
       "      <td>0.669713</td>\n",
       "    </tr>\n",
       "    <tr>\n",
       "      <th>2019-03-04</th>\n",
       "      <td>0.967113</td>\n",
       "      <td>-0.416481</td>\n",
       "      <td>-0.000346</td>\n",
       "      <td>0.004139</td>\n",
       "    </tr>\n",
       "    <tr>\n",
       "      <th>2019-03-05</th>\n",
       "      <td>0.723185</td>\n",
       "      <td>-0.734447</td>\n",
       "      <td>1.825924</td>\n",
       "      <td>-0.389020</td>\n",
       "    </tr>\n",
       "    <tr>\n",
       "      <th>2019-03-06</th>\n",
       "      <td>0.296089</td>\n",
       "      <td>-0.856560</td>\n",
       "      <td>-0.177415</td>\n",
       "      <td>-0.107328</td>\n",
       "    </tr>\n",
       "  </tbody>\n",
       "</table>\n",
       "</div>"
      ],
      "text/plain": [
       "                   A         B         C         D\n",
       "2019-03-01  0.323769 -1.285817  2.147937  0.669713\n",
       "2019-03-04  0.967113 -0.416481 -0.000346  0.004139\n",
       "2019-03-05  0.723185 -0.734447  1.825924 -0.389020\n",
       "2019-03-06  0.296089 -0.856560 -0.177415 -0.107328"
      ]
     },
     "execution_count": 40,
     "metadata": {},
     "output_type": "execute_result"
    }
   ],
   "source": [
    "df[df['A']>0]"
   ]
  },
  {
   "cell_type": "code",
   "execution_count": 41,
   "id": "560135bc",
   "metadata": {},
   "outputs": [
    {
     "data": {
      "text/html": [
       "<div>\n",
       "<style scoped>\n",
       "    .dataframe tbody tr th:only-of-type {\n",
       "        vertical-align: middle;\n",
       "    }\n",
       "\n",
       "    .dataframe tbody tr th {\n",
       "        vertical-align: top;\n",
       "    }\n",
       "\n",
       "    .dataframe thead th {\n",
       "        text-align: right;\n",
       "    }\n",
       "</style>\n",
       "<table border=\"1\" class=\"dataframe\">\n",
       "  <thead>\n",
       "    <tr style=\"text-align: right;\">\n",
       "      <th></th>\n",
       "      <th>A</th>\n",
       "      <th>B</th>\n",
       "      <th>C</th>\n",
       "      <th>D</th>\n",
       "    </tr>\n",
       "  </thead>\n",
       "  <tbody>\n",
       "    <tr>\n",
       "      <th>2019-03-01</th>\n",
       "      <td>0.323769</td>\n",
       "      <td>NaN</td>\n",
       "      <td>2.147937</td>\n",
       "      <td>0.669713</td>\n",
       "    </tr>\n",
       "    <tr>\n",
       "      <th>2019-03-02</th>\n",
       "      <td>NaN</td>\n",
       "      <td>NaN</td>\n",
       "      <td>NaN</td>\n",
       "      <td>NaN</td>\n",
       "    </tr>\n",
       "    <tr>\n",
       "      <th>2019-03-03</th>\n",
       "      <td>NaN</td>\n",
       "      <td>NaN</td>\n",
       "      <td>NaN</td>\n",
       "      <td>0.257498</td>\n",
       "    </tr>\n",
       "    <tr>\n",
       "      <th>2019-03-04</th>\n",
       "      <td>0.967113</td>\n",
       "      <td>NaN</td>\n",
       "      <td>NaN</td>\n",
       "      <td>0.004139</td>\n",
       "    </tr>\n",
       "    <tr>\n",
       "      <th>2019-03-05</th>\n",
       "      <td>0.723185</td>\n",
       "      <td>NaN</td>\n",
       "      <td>1.825924</td>\n",
       "      <td>NaN</td>\n",
       "    </tr>\n",
       "    <tr>\n",
       "      <th>2019-03-06</th>\n",
       "      <td>0.296089</td>\n",
       "      <td>NaN</td>\n",
       "      <td>NaN</td>\n",
       "      <td>NaN</td>\n",
       "    </tr>\n",
       "  </tbody>\n",
       "</table>\n",
       "</div>"
      ],
      "text/plain": [
       "                   A   B         C         D\n",
       "2019-03-01  0.323769 NaN  2.147937  0.669713\n",
       "2019-03-02       NaN NaN       NaN       NaN\n",
       "2019-03-03       NaN NaN       NaN  0.257498\n",
       "2019-03-04  0.967113 NaN       NaN  0.004139\n",
       "2019-03-05  0.723185 NaN  1.825924       NaN\n",
       "2019-03-06  0.296089 NaN       NaN       NaN"
      ]
     },
     "execution_count": 41,
     "metadata": {},
     "output_type": "execute_result"
    }
   ],
   "source": [
    "df[df>0]"
   ]
  },
  {
   "cell_type": "code",
   "execution_count": 42,
   "id": "52a5f794",
   "metadata": {},
   "outputs": [
    {
     "data": {
      "text/html": [
       "<div>\n",
       "<style scoped>\n",
       "    .dataframe tbody tr th:only-of-type {\n",
       "        vertical-align: middle;\n",
       "    }\n",
       "\n",
       "    .dataframe tbody tr th {\n",
       "        vertical-align: top;\n",
       "    }\n",
       "\n",
       "    .dataframe thead th {\n",
       "        text-align: right;\n",
       "    }\n",
       "</style>\n",
       "<table border=\"1\" class=\"dataframe\">\n",
       "  <thead>\n",
       "    <tr style=\"text-align: right;\">\n",
       "      <th></th>\n",
       "      <th>A</th>\n",
       "      <th>C</th>\n",
       "      <th>D</th>\n",
       "      <th>B</th>\n",
       "    </tr>\n",
       "  </thead>\n",
       "  <tbody>\n",
       "    <tr>\n",
       "      <th>2019-03-01</th>\n",
       "      <td>0.323769</td>\n",
       "      <td>2.147937</td>\n",
       "      <td>0.669713</td>\n",
       "      <td>-1.285817</td>\n",
       "    </tr>\n",
       "    <tr>\n",
       "      <th>2019-03-02</th>\n",
       "      <td>-0.566707</td>\n",
       "      <td>-1.499854</td>\n",
       "      <td>-1.059527</td>\n",
       "      <td>-1.983707</td>\n",
       "    </tr>\n",
       "    <tr>\n",
       "      <th>2019-03-03</th>\n",
       "      <td>-0.489086</td>\n",
       "      <td>-0.501145</td>\n",
       "      <td>0.257498</td>\n",
       "      <td>-2.060032</td>\n",
       "    </tr>\n",
       "    <tr>\n",
       "      <th>2019-03-04</th>\n",
       "      <td>0.967113</td>\n",
       "      <td>-0.000346</td>\n",
       "      <td>0.004139</td>\n",
       "      <td>-0.416481</td>\n",
       "    </tr>\n",
       "    <tr>\n",
       "      <th>2019-03-05</th>\n",
       "      <td>0.723185</td>\n",
       "      <td>1.825924</td>\n",
       "      <td>-0.389020</td>\n",
       "      <td>-0.734447</td>\n",
       "    </tr>\n",
       "    <tr>\n",
       "      <th>2019-03-06</th>\n",
       "      <td>0.296089</td>\n",
       "      <td>-0.177415</td>\n",
       "      <td>-0.107328</td>\n",
       "      <td>-0.856560</td>\n",
       "    </tr>\n",
       "  </tbody>\n",
       "</table>\n",
       "</div>"
      ],
      "text/plain": [
       "                   A         C         D         B\n",
       "2019-03-01  0.323769  2.147937  0.669713 -1.285817\n",
       "2019-03-02 -0.566707 -1.499854 -1.059527 -1.983707\n",
       "2019-03-03 -0.489086 -0.501145  0.257498 -2.060032\n",
       "2019-03-04  0.967113 -0.000346  0.004139 -0.416481\n",
       "2019-03-05  0.723185  1.825924 -0.389020 -0.734447\n",
       "2019-03-06  0.296089 -0.177415 -0.107328 -0.856560"
      ]
     },
     "execution_count": 42,
     "metadata": {},
     "output_type": "execute_result"
    }
   ],
   "source": [
    "df2 = pd.DataFrame(df, columns=['A','C','D','B'])\n",
    "df2"
   ]
  },
  {
   "cell_type": "code",
   "execution_count": 44,
   "id": "a94d9c15",
   "metadata": {},
   "outputs": [
    {
     "data": {
      "text/html": [
       "<div>\n",
       "<style scoped>\n",
       "    .dataframe tbody tr th:only-of-type {\n",
       "        vertical-align: middle;\n",
       "    }\n",
       "\n",
       "    .dataframe tbody tr th {\n",
       "        vertical-align: top;\n",
       "    }\n",
       "\n",
       "    .dataframe thead th {\n",
       "        text-align: right;\n",
       "    }\n",
       "</style>\n",
       "<table border=\"1\" class=\"dataframe\">\n",
       "  <thead>\n",
       "    <tr style=\"text-align: right;\">\n",
       "      <th></th>\n",
       "      <th>A</th>\n",
       "      <th>B</th>\n",
       "      <th>C</th>\n",
       "      <th>D</th>\n",
       "      <th>E</th>\n",
       "    </tr>\n",
       "  </thead>\n",
       "  <tbody>\n",
       "    <tr>\n",
       "      <th>2019-03-01</th>\n",
       "      <td>0.323769</td>\n",
       "      <td>-1.285817</td>\n",
       "      <td>2.147937</td>\n",
       "      <td>0.669713</td>\n",
       "      <td>NaN</td>\n",
       "    </tr>\n",
       "    <tr>\n",
       "      <th>2019-03-02</th>\n",
       "      <td>-0.566707</td>\n",
       "      <td>-1.983707</td>\n",
       "      <td>-1.499854</td>\n",
       "      <td>-1.059527</td>\n",
       "      <td>NaN</td>\n",
       "    </tr>\n",
       "    <tr>\n",
       "      <th>2019-03-03</th>\n",
       "      <td>-0.489086</td>\n",
       "      <td>-2.060032</td>\n",
       "      <td>-0.501145</td>\n",
       "      <td>0.257498</td>\n",
       "      <td>NaN</td>\n",
       "    </tr>\n",
       "    <tr>\n",
       "      <th>2019-03-04</th>\n",
       "      <td>0.967113</td>\n",
       "      <td>-0.416481</td>\n",
       "      <td>-0.000346</td>\n",
       "      <td>0.004139</td>\n",
       "      <td>NaN</td>\n",
       "    </tr>\n",
       "    <tr>\n",
       "      <th>2019-03-05</th>\n",
       "      <td>0.723185</td>\n",
       "      <td>-0.734447</td>\n",
       "      <td>1.825924</td>\n",
       "      <td>-0.389020</td>\n",
       "      <td>NaN</td>\n",
       "    </tr>\n",
       "    <tr>\n",
       "      <th>2019-03-06</th>\n",
       "      <td>0.296089</td>\n",
       "      <td>-0.856560</td>\n",
       "      <td>-0.177415</td>\n",
       "      <td>-0.107328</td>\n",
       "      <td>NaN</td>\n",
       "    </tr>\n",
       "  </tbody>\n",
       "</table>\n",
       "</div>"
      ],
      "text/plain": [
       "                   A         B         C         D   E\n",
       "2019-03-01  0.323769 -1.285817  2.147937  0.669713 NaN\n",
       "2019-03-02 -0.566707 -1.983707 -1.499854 -1.059527 NaN\n",
       "2019-03-03 -0.489086 -2.060032 -0.501145  0.257498 NaN\n",
       "2019-03-04  0.967113 -0.416481 -0.000346  0.004139 NaN\n",
       "2019-03-05  0.723185 -0.734447  1.825924 -0.389020 NaN\n",
       "2019-03-06  0.296089 -0.856560 -0.177415 -0.107328 NaN"
      ]
     },
     "execution_count": 44,
     "metadata": {},
     "output_type": "execute_result"
    }
   ],
   "source": [
    "df['E'] = np.nan\n",
    "df"
   ]
  },
  {
   "cell_type": "code",
   "execution_count": 46,
   "id": "266f8745",
   "metadata": {},
   "outputs": [
    {
     "data": {
      "text/html": [
       "<div>\n",
       "<style scoped>\n",
       "    .dataframe tbody tr th:only-of-type {\n",
       "        vertical-align: middle;\n",
       "    }\n",
       "\n",
       "    .dataframe tbody tr th {\n",
       "        vertical-align: top;\n",
       "    }\n",
       "\n",
       "    .dataframe thead th {\n",
       "        text-align: right;\n",
       "    }\n",
       "</style>\n",
       "<table border=\"1\" class=\"dataframe\">\n",
       "  <thead>\n",
       "    <tr style=\"text-align: right;\">\n",
       "      <th></th>\n",
       "      <th>A</th>\n",
       "      <th>B</th>\n",
       "      <th>C</th>\n",
       "      <th>D</th>\n",
       "      <th>E</th>\n",
       "    </tr>\n",
       "  </thead>\n",
       "  <tbody>\n",
       "    <tr>\n",
       "      <th>2019-03-01</th>\n",
       "      <td>0.323769</td>\n",
       "      <td>-1.285817</td>\n",
       "      <td>2.147937</td>\n",
       "      <td>0.669713</td>\n",
       "      <td>NaN</td>\n",
       "    </tr>\n",
       "    <tr>\n",
       "      <th>2019-03-02</th>\n",
       "      <td>-0.566707</td>\n",
       "      <td>-1.983707</td>\n",
       "      <td>-1.499854</td>\n",
       "      <td>-1.059527</td>\n",
       "      <td>2.0</td>\n",
       "    </tr>\n",
       "    <tr>\n",
       "      <th>2019-03-03</th>\n",
       "      <td>-0.489086</td>\n",
       "      <td>-2.060032</td>\n",
       "      <td>-0.501145</td>\n",
       "      <td>0.257498</td>\n",
       "      <td>NaN</td>\n",
       "    </tr>\n",
       "    <tr>\n",
       "      <th>2019-03-04</th>\n",
       "      <td>0.967113</td>\n",
       "      <td>-0.416481</td>\n",
       "      <td>-0.000346</td>\n",
       "      <td>0.004139</td>\n",
       "      <td>NaN</td>\n",
       "    </tr>\n",
       "    <tr>\n",
       "      <th>2019-03-05</th>\n",
       "      <td>0.723185</td>\n",
       "      <td>-0.734447</td>\n",
       "      <td>1.825924</td>\n",
       "      <td>-0.389020</td>\n",
       "      <td>NaN</td>\n",
       "    </tr>\n",
       "    <tr>\n",
       "      <th>2019-03-06</th>\n",
       "      <td>0.296089</td>\n",
       "      <td>-0.856560</td>\n",
       "      <td>-0.177415</td>\n",
       "      <td>-0.107328</td>\n",
       "      <td>NaN</td>\n",
       "    </tr>\n",
       "  </tbody>\n",
       "</table>\n",
       "</div>"
      ],
      "text/plain": [
       "                   A         B         C         D    E\n",
       "2019-03-01  0.323769 -1.285817  2.147937  0.669713  NaN\n",
       "2019-03-02 -0.566707 -1.983707 -1.499854 -1.059527  2.0\n",
       "2019-03-03 -0.489086 -2.060032 -0.501145  0.257498  NaN\n",
       "2019-03-04  0.967113 -0.416481 -0.000346  0.004139  NaN\n",
       "2019-03-05  0.723185 -0.734447  1.825924 -0.389020  NaN\n",
       "2019-03-06  0.296089 -0.856560 -0.177415 -0.107328  NaN"
      ]
     },
     "execution_count": 46,
     "metadata": {},
     "output_type": "execute_result"
    }
   ],
   "source": [
    "df.loc['2019-03-02',['E']] = 2\n",
    "df"
   ]
  },
  {
   "cell_type": "code",
   "execution_count": 48,
   "id": "490f6930",
   "metadata": {},
   "outputs": [
    {
     "data": {
      "text/html": [
       "<div>\n",
       "<style scoped>\n",
       "    .dataframe tbody tr th:only-of-type {\n",
       "        vertical-align: middle;\n",
       "    }\n",
       "\n",
       "    .dataframe tbody tr th {\n",
       "        vertical-align: top;\n",
       "    }\n",
       "\n",
       "    .dataframe thead th {\n",
       "        text-align: right;\n",
       "    }\n",
       "</style>\n",
       "<table border=\"1\" class=\"dataframe\">\n",
       "  <thead>\n",
       "    <tr style=\"text-align: right;\">\n",
       "      <th></th>\n",
       "      <th>A</th>\n",
       "      <th>B</th>\n",
       "      <th>C</th>\n",
       "      <th>D</th>\n",
       "      <th>E</th>\n",
       "      <th>F</th>\n",
       "    </tr>\n",
       "  </thead>\n",
       "  <tbody>\n",
       "    <tr>\n",
       "      <th>2019-03-01</th>\n",
       "      <td>0.323769</td>\n",
       "      <td>-1.285817</td>\n",
       "      <td>2.147937</td>\n",
       "      <td>0.669713</td>\n",
       "      <td>NaN</td>\n",
       "      <td>-0.962049</td>\n",
       "    </tr>\n",
       "    <tr>\n",
       "      <th>2019-03-02</th>\n",
       "      <td>-0.566707</td>\n",
       "      <td>-1.983707</td>\n",
       "      <td>-1.499854</td>\n",
       "      <td>-1.059527</td>\n",
       "      <td>2.0</td>\n",
       "      <td>-2.550414</td>\n",
       "    </tr>\n",
       "    <tr>\n",
       "      <th>2019-03-03</th>\n",
       "      <td>-0.489086</td>\n",
       "      <td>-2.060032</td>\n",
       "      <td>-0.501145</td>\n",
       "      <td>0.257498</td>\n",
       "      <td>NaN</td>\n",
       "      <td>-2.549118</td>\n",
       "    </tr>\n",
       "    <tr>\n",
       "      <th>2019-03-04</th>\n",
       "      <td>0.967113</td>\n",
       "      <td>-0.416481</td>\n",
       "      <td>-0.000346</td>\n",
       "      <td>0.004139</td>\n",
       "      <td>NaN</td>\n",
       "      <td>0.550632</td>\n",
       "    </tr>\n",
       "    <tr>\n",
       "      <th>2019-03-05</th>\n",
       "      <td>0.723185</td>\n",
       "      <td>-0.734447</td>\n",
       "      <td>1.825924</td>\n",
       "      <td>-0.389020</td>\n",
       "      <td>NaN</td>\n",
       "      <td>-0.011262</td>\n",
       "    </tr>\n",
       "    <tr>\n",
       "      <th>2019-03-06</th>\n",
       "      <td>0.296089</td>\n",
       "      <td>-0.856560</td>\n",
       "      <td>-0.177415</td>\n",
       "      <td>-0.107328</td>\n",
       "      <td>NaN</td>\n",
       "      <td>-0.560471</td>\n",
       "    </tr>\n",
       "  </tbody>\n",
       "</table>\n",
       "</div>"
      ],
      "text/plain": [
       "                   A         B         C         D    E         F\n",
       "2019-03-01  0.323769 -1.285817  2.147937  0.669713  NaN -0.962049\n",
       "2019-03-02 -0.566707 -1.983707 -1.499854 -1.059527  2.0 -2.550414\n",
       "2019-03-03 -0.489086 -2.060032 -0.501145  0.257498  NaN -2.549118\n",
       "2019-03-04  0.967113 -0.416481 -0.000346  0.004139  NaN  0.550632\n",
       "2019-03-05  0.723185 -0.734447  1.825924 -0.389020  NaN -0.011262\n",
       "2019-03-06  0.296089 -0.856560 -0.177415 -0.107328  NaN -0.560471"
      ]
     },
     "execution_count": 48,
     "metadata": {},
     "output_type": "execute_result"
    }
   ],
   "source": [
    "df['F'] = df['A'] + df['B']\n",
    "df"
   ]
  },
  {
   "cell_type": "code",
   "execution_count": null,
   "id": "ec98ccdd",
   "metadata": {},
   "outputs": [],
   "source": []
  }
 ],
 "metadata": {
  "kernelspec": {
   "display_name": "Python 3",
   "language": "python",
   "name": "python3"
  },
  "language_info": {
   "codemirror_mode": {
    "name": "ipython",
    "version": 3
   },
   "file_extension": ".py",
   "mimetype": "text/x-python",
   "name": "python",
   "nbconvert_exporter": "python",
   "pygments_lexer": "ipython3",
   "version": "3.6.13"
  }
 },
 "nbformat": 4,
 "nbformat_minor": 5
}
